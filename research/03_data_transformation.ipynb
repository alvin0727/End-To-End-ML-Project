{
 "cells": [
  {
   "cell_type": "code",
   "execution_count": 1,
   "id": "c7f5bfa8",
   "metadata": {},
   "outputs": [],
   "source": [
    "import os"
   ]
  },
  {
   "cell_type": "code",
   "execution_count": 2,
   "id": "35be9127",
   "metadata": {},
   "outputs": [
    {
     "data": {
      "text/plain": [
       "'c:\\\\Users\\\\alvin\\\\Documents\\\\Project Data Science\\\\End-To-End-ML-Project\\\\research'"
      ]
     },
     "execution_count": 2,
     "metadata": {},
     "output_type": "execute_result"
    }
   ],
   "source": [
    "%pwd"
   ]
  },
  {
   "cell_type": "code",
   "execution_count": 3,
   "id": "07b579d5",
   "metadata": {},
   "outputs": [],
   "source": [
    "os.chdir(\"../\")"
   ]
  },
  {
   "cell_type": "code",
   "execution_count": 4,
   "id": "c2de7826",
   "metadata": {},
   "outputs": [
    {
     "data": {
      "text/plain": [
       "'c:\\\\Users\\\\alvin\\\\Documents\\\\Project Data Science\\\\End-To-End-ML-Project'"
      ]
     },
     "execution_count": 4,
     "metadata": {},
     "output_type": "execute_result"
    }
   ],
   "source": [
    "%pwd"
   ]
  },
  {
   "cell_type": "code",
   "execution_count": 12,
   "id": "7f4d0341",
   "metadata": {},
   "outputs": [],
   "source": [
    "from dataclasses import dataclass\n",
    "from pathlib import Path\n",
    "\n",
    "@dataclass(frozen=True)\n",
    "class DataTransformationConfig:\n",
    "    root_dir: Path\n",
    "    data_path: Path"
   ]
  },
  {
   "cell_type": "code",
   "execution_count": 13,
   "id": "0e8e9a67",
   "metadata": {},
   "outputs": [],
   "source": [
    "from mlProject.constants import *\n",
    "from mlProject.utils.common import read_yaml, create_directories"
   ]
  },
  {
   "cell_type": "code",
   "execution_count": 22,
   "id": "fceb7952",
   "metadata": {},
   "outputs": [],
   "source": [
    "class ConfigurationManager:\n",
    "    def __init__(\n",
    "        self,\n",
    "        config_filepath = CONFIG_FILE_PATH,\n",
    "        params_filepath = PARAMS_FILE_PATH,\n",
    "        schema_filepath = SCHEMA_FILE_PATH):\n",
    "        \n",
    "        self.config = read_yaml(config_filepath)\n",
    "        self.params = read_yaml(params_filepath)    \n",
    "        self.schema = read_yaml(schema_filepath)\n",
    "        \n",
    "        create_directories([self.config.artifacts_root])\n",
    "    \n",
    "    def get_data_transformation_config(self) -> DataTransformationConfig:\n",
    "        config = self.config.data_transformation\n",
    "        \n",
    "        data_transformation_config = DataTransformationConfig(\n",
    "            root_dir=config.root_dir,\n",
    "            data_path=config.data_path,\n",
    "        )\n",
    "        return data_transformation_config"
   ]
  },
  {
   "cell_type": "code",
   "execution_count": 23,
   "id": "fedc2d79",
   "metadata": {},
   "outputs": [],
   "source": [
    "import os \n",
    "from mlProject import logger\n",
    "from sklearn.model_selection import train_test_split\n",
    "import pandas as pd "
   ]
  },
  {
   "cell_type": "code",
   "execution_count": 32,
   "id": "3ea94cab",
   "metadata": {},
   "outputs": [],
   "source": [
    "class DataTransformation:\n",
    "    def __init__(self, config: DataTransformationConfig):\n",
    "        self.config = config\n",
    "    \n",
    "    ## Note: Adding the different data transformation methods here.\n",
    "    \n",
    "    # I am just using the train_test_split method from sklearn to split the data into train and test sets.\n",
    "    # In a real-world scenario, you would use more complex methods to transform the data.\n",
    "    \n",
    "    def train_test_spliting(self):\n",
    "        data = pd.read_csv(self.config.data_path)\n",
    "        \n",
    "        # Splitting the data into train and test sets\n",
    "        train_set, test_set = train_test_split(data, test_size=0.2, random_state=42)\n",
    "        \n",
    "        # Createing the root directory if it doesn't exist\n",
    "        os.makedirs(self.config.root_dir, exist_ok=True)\n",
    "        \n",
    "        # Saving the train and test sets to csv files\n",
    "        train_set.to_csv(os.path.join(self.config.root_dir, \"train.csv\"), index=False)\n",
    "        test_set.to_csv(os.path.join(self.config.root_dir, \"test.csv\"), index=False)\n",
    "        \n",
    "        logger.info(\"Data transformation completed and train/test sets saved.\")\n",
    "        logger.info(f\"Train set shape: {train_set.shape}\")\n",
    "        logger.info(f\"Test set shape: {test_set.shape}\")\n",
    "        \n",
    "        print(train_set.shape)\n",
    "        print(test_set.shape)\n",
    "        "
   ]
  },
  {
   "cell_type": "code",
   "execution_count": 33,
   "id": "bd6960fc",
   "metadata": {},
   "outputs": [
    {
     "name": "stdout",
     "output_type": "stream",
     "text": [
      "[2025-04-25 02:55:14,371]: INFO:common:yaml file: config\\config.yaml loaded successfully]\n",
      "[2025-04-25 02:55:14,374]: INFO:common:yaml file: params.yaml loaded successfully]\n",
      "[2025-04-25 02:55:14,376]: INFO:common:yaml file: schema.yaml loaded successfully]\n",
      "[2025-04-25 02:55:14,378]: INFO:common:created directory at: artifacts]\n",
      "[2025-04-25 02:55:14,396]: INFO:1653891867:Data transformation completed and train/test sets saved.]\n",
      "[2025-04-25 02:55:14,397]: INFO:1653891867:Train set shape: (1279, 12)]\n",
      "[2025-04-25 02:55:14,399]: INFO:1653891867:Test set shape: (320, 12)]\n",
      "(1279, 12)\n",
      "(320, 12)\n"
     ]
    }
   ],
   "source": [
    "try:\n",
    "    config = ConfigurationManager()\n",
    "    data_transformation_config = config.get_data_transformation_config()\n",
    "    data_transformation = DataTransformation(config=data_transformation_config)\n",
    "    data_transformation.train_test_spliting()\n",
    "except Exception as e:  \n",
    "    raise e\n",
    "    "
   ]
  }
 ],
 "metadata": {
  "kernelspec": {
   "display_name": "venv",
   "language": "python",
   "name": "python3"
  },
  "language_info": {
   "codemirror_mode": {
    "name": "ipython",
    "version": 3
   },
   "file_extension": ".py",
   "mimetype": "text/x-python",
   "name": "python",
   "nbconvert_exporter": "python",
   "pygments_lexer": "ipython3",
   "version": "3.10.0"
  }
 },
 "nbformat": 4,
 "nbformat_minor": 5
}
